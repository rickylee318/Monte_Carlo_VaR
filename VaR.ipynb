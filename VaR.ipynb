{
 "cells": [
  {
   "cell_type": "code",
   "execution_count": 3,
   "metadata": {},
   "outputs": [],
   "source": [
    "import math\n",
    "import pandas as pd\n",
    "import matplotlib.pyplot as plt\n",
    "import numpy as np\n",
    "from sklearn.preprocessing import StandardScaler\n",
    "from sklearn.linear_model import LinearRegression\n",
    "from sklearn.model_selection import GridSearchCV\n",
    "from sklearn.metrics import accuracy_score\n",
    "from sklearn.metrics import classification_report\n",
    "from sklearn.linear_model import Lasso\n",
    "from sklearn.linear_model import LassoCV\n",
    "from sklearn.ensemble import RandomForestRegressor\n",
    "from scipy.stats import norm\n",
    "from numpy.linalg import inv\n",
    "from numpy import linalg as LA\n",
    "from sklearn import preprocessing\n",
    "from sklearn.metrics import classification_report\n",
    "import time\n",
    "from datetime import date, datetime\n",
    "from datetime import timedelta\n",
    "from dateutil.relativedelta import relativedelta\n",
    "# import pywt\n",
    "# from bartpy.sklearnmodel import SklearnModel\n",
    "from spock_datastore.symboldb import SymbolDb\n",
    "from spock_datastore.economicdb import EconomicDb\n",
    "symbol_db = SymbolDb('http://api.leadinfo.com.tw/api/v1/')\n",
    "economic_db = EconomicDb('http://api.leadinfo.com.tw/api/v1/')\n",
    "import datetime\n",
    "from matplotlib.patches import Rectangle"
   ]
  },
  {
   "cell_type": "code",
   "execution_count": 4,
   "metadata": {},
   "outputs": [],
   "source": [
    "weight = {'GOOGL':0.2, 'KO':0.2, 'AAPL':0.2, 'MSFT':0.2, 'MCD':0.2}"
   ]
  },
  {
   "cell_type": "code",
   "execution_count": 5,
   "metadata": {},
   "outputs": [],
   "source": [
    "start = datetime.datetime(2018,1,1)\n",
    "end = datetime.datetime(2019,1,1)"
   ]
  },
  {
   "cell_type": "code",
   "execution_count": 6,
   "metadata": {},
   "outputs": [],
   "source": [
    "def tot_price(weight, start, end):\n",
    "    wei = weight.copy()\n",
    "    symbols = list(wei.keys())\n",
    "    tot_price = pd.DataFrame()\n",
    "    for symbol in symbols:\n",
    "        print(symbol)\n",
    "        tmp = symbol_db.dataReader(symbol, start, end, 'D', 'db')\n",
    "        tot_price = pd.concat([tot_price, tmp['Adj Close']], axis=1)\n",
    "    tot_price.columns = symbols\n",
    "    tot_price = tot_price.fillna(method='pad')\n",
    "    return tot_price\n",
    "\n",
    "def port_value(tot_price,weight):\n",
    "    tv = tot_price.copy()\n",
    "    wei = weight.copy()\n",
    "    w = np.array([wei[k] for k in tv.columns.tolist()])\n",
    "    l = tv.shape[0]\n",
    "    tot_w = pd.DataFrame(np.repeat(w.reshape(-1,1).T,l,axis=0), index = tv.index, columns =tv.columns.tolist())\n",
    "    tot_w = tot_w.mask(tv.isnull())\n",
    "    tot_w = tot_w.loc[:,:].div(tot_w.sum(axis=1), axis=0)\n",
    "    tot_val = []\n",
    "    tot_price_val = []\n",
    "    val = 1000.\n",
    "    change_wei_date = tot_w.drop_duplicates(keep='first').index.tolist()\n",
    "    for t in tot_w.index.tolist():\n",
    "        if t in change_wei_date:\n",
    "            share = tot_w.loc[t] * val / tv.loc[t]\n",
    "        price_val = share * tv.loc[t]\n",
    "        val = (price_val).sum()\n",
    "        tot_price_val.append(price_val)\n",
    "        tot_val.append(val)\n",
    "    port_val = pd.Series(tot_val, index = tot_w.index)\n",
    "    tot_price_val = pd.DataFrame(tot_price_val, index = tot_w.index)\n",
    "    return port_val, tot_price_val"
   ]
  },
  {
   "cell_type": "code",
   "execution_count": 7,
   "metadata": {},
   "outputs": [
    {
     "name": "stdout",
     "output_type": "stream",
     "text": [
      "MCD\n",
      "GOOGL\n",
      "KO\n",
      "AAPL\n",
      "MSFT\n"
     ]
    }
   ],
   "source": [
    "total_price = tot_price(weight, start, end)"
   ]
  },
  {
   "cell_type": "code",
   "execution_count": 8,
   "metadata": {},
   "outputs": [],
   "source": [
    "pt_val, tot_price_val = port_value(total_price, weight)"
   ]
  },
  {
   "cell_type": "code",
   "execution_count": 9,
   "metadata": {},
   "outputs": [
    {
     "name": "stderr",
     "output_type": "stream",
     "text": [
      "/usr/local/lib/python3.5/dist-packages/pandas/plotting/_converter.py:129: FutureWarning: Using an implicitly registered datetime converter for a matplotlib plotting method. The converter was registered by pandas on import. Future versions of pandas will require you to explicitly register matplotlib converters.\n",
      "\n",
      "To register the converters:\n",
      "\t>>> from pandas.plotting import register_matplotlib_converters\n",
      "\t>>> register_matplotlib_converters()\n",
      "  warnings.warn(msg, FutureWarning)\n"
     ]
    },
    {
     "data": {
      "text/plain": [
       "[<matplotlib.lines.Line2D at 0x7f05848ab240>]"
      ]
     },
     "execution_count": 9,
     "metadata": {},
     "output_type": "execute_result"
    },
    {
     "data": {
      "image/png": "[encoded data removed]",
      "text/plain": [
       "<Figure size 432x288 with 1 Axes>"
      ]
     },
     "metadata": {
      "needs_background": "light"
     },
     "output_type": "display_data"
    }
   ],
   "source": [
    "plt.plot(pt_val.diff(1).dropna())"
   ]
  },
  {
   "cell_type": "code",
   "execution_count": 27,
   "metadata": {},
   "outputs": [],
   "source": [
    "from scipy.optimize import fsolve\n",
    "import scipy\n",
    "from sklearn.linear_model import LinearRegression"
   ]
  },
  {
   "cell_type": "code",
   "execution_count": 25,
   "metadata": {},
   "outputs": [],
   "source": [
    "### follow the monte_carlo_var.pdf\n",
    "def var_cal(tot_price_val, pt_val):\n",
    "    diff_price = tot_price_val.diff(1).dropna()\n",
    "    sigma_hat = np.dot(np.array(diff_price).T, np.array(diff_price)) / diff_price.shape[0]\n",
    "    ### step 1\n",
    "    C = scipy.linalg.cholesky(np.array(sigma_hat), lower=True)\n",
    "    pt_diff = pt_val.diff(1).dropna()\n",
    "    model = LinearRegression(fit_intercept=True)\n",
    "    model.fit(pd.concat([diff_price, diff_price **2], axis=1), pt_diff)\n",
    "    delta = model.coef_[:5]\n",
    "    print(delta) # Taylor expansion 一次項\n",
    "    gamma = model.coef_[5:] * 2\n",
    "    gamma = np.diag(gamma)\n",
    "    print(gamma) # Taylor expansion 二次項\n",
    "    lamda, U = np.linalg.eig(-0.5 * np.dot(gamma, np.array(sigma_hat)))\n",
    "    C = np.dot(C, U\n",
    "    a = -pt_diff.iloc[-1]\n",
    "    b = -np.dot(np.array(delta).reshape(-1,1).T, C)\n",
    "    b = b.flatten()\n",
    "    ### step 2\n",
    "    x = 100.\n",
    "    lamda = lamda.flatten()\n",
    "    def func(i):\n",
    "        y = i\n",
    "        return [sum((lamda*(y**2)*(b**2) + y*(b**2)*(1-2*y*lamda) + lamda * (1 - 2*y*lamda)) / ((1-2*y*lamda)**2))+a-x]\n",
    "    r = fsolve(func,[0])\n",
    "    print(r)\n",
    "    theta = float(r[0])\n",
    "    ### step 3\n",
    "    mu = theta * b / (1 - 2 * lamda * theta)\n",
    "    mu = mu.flatten()\n",
    "    sigma_sqr = np.diag((1/(1 - 2 * lamda * theta)).flatten())\n",
    "    ### step 4\n",
    "    N = 10000\n",
    "    A = list()\n",
    "    cha_fun = 0.5 * np.nansum((theta**2)*(b**2)/(1-2*theta*lamda.flatten()) - np.log(1 - 2*theta*lamda.flatten()))\n",
    "    for i in range(N):\n",
    "        z = np.random.multivariate_normal(mu.flatten(), sigma_sqr, 1).T\n",
    "        Q = sum(b.flatten() * z.flatten() + lamda.flatten() * (z.flatten()**2))\n",
    "        lr = np.exp(cha_fun - theta * Q)\n",
    "        L = Q + a\n",
    "        A.append([L,Q,lr])\n",
    "    A = pd.DataFrame(A, columns = ['L','Q','lr']).sort_values(by = 'L')\n",
    "    alpha = A[A.L > x].lr.sum() / N\n",
    "    return alpha"
   ]
  },
  {
   "cell_type": "code",
   "execution_count": 26,
   "metadata": {},
   "outputs": [
    {
     "name": "stdout",
     "output_type": "stream",
     "text": [
      "[1. 1. 1. 1. 1.]\n",
      "[[-2.88657986e-15  0.00000000e+00  0.00000000e+00  0.00000000e+00\n",
      "   0.00000000e+00]\n",
      " [ 0.00000000e+00 -6.66133815e-16  0.00000000e+00  0.00000000e+00\n",
      "   0.00000000e+00]\n",
      " [ 0.00000000e+00  0.00000000e+00  7.77156117e-16  0.00000000e+00\n",
      "   0.00000000e+00]\n",
      " [ 0.00000000e+00  0.00000000e+00  0.00000000e+00  4.44089210e-16\n",
      "   0.00000000e+00]\n",
      " [ 0.00000000e+00  0.00000000e+00  0.00000000e+00  0.00000000e+00\n",
      "   1.16573418e-15]]\n",
      "[1.26544973]\n"
     ]
    },
    {
     "data": {
      "text/plain": [
       "1.1531300805203151e-31"
      ]
     },
     "execution_count": 26,
     "metadata": {},
     "output_type": "execute_result"
    }
   ],
   "source": [
    "alpha = var_cal(tot_price_val, pt_val)\n",
    "alpha"
   ]
  },
  {
   "cell_type": "code",
   "execution_count": null,
   "metadata": {},
   "outputs": [],
   "source": []
  }
 ],
 "metadata": {
  "kernelspec": {
   "display_name": "Python 3",
   "language": "python",
   "name": "python3"
  },
  "language_info": {
   "codemirror_mode": {
    "name": "ipython",
    "version": 3
   },
   "file_extension": ".py",
   "mimetype": "text/x-python",
   "name": "python",
   "nbconvert_exporter": "python",
   "pygments_lexer": "ipython3",
   "version": "3.5.2"
  }
 },
 "nbformat": 4,
 "nbformat_minor": 2
}
