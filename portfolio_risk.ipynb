{
 "cells": [
  {
   "cell_type": "code",
   "execution_count": 11,
   "metadata": {},
   "outputs": [],
   "source": [
    "import math\n",
    "import pandas as pd\n",
    "import matplotlib.pyplot as plt\n",
    "import numpy as np\n",
    "from sklearn.preprocessing import StandardScaler\n",
    "from sklearn.linear_model import LinearRegression\n",
    "from sklearn.model_selection import GridSearchCV\n",
    "from sklearn.metrics import accuracy_score\n",
    "from sklearn.metrics import classification_report\n",
    "from sklearn.linear_model import Lasso\n",
    "from sklearn.linear_model import LassoCV\n",
    "from sklearn.ensemble import RandomForestRegressor\n",
    "from scipy.stats import norm\n",
    "from numpy.linalg import inv\n",
    "from numpy import linalg as LA\n",
    "from sklearn import preprocessing\n",
    "from sklearn.metrics import classification_report\n",
    "import time\n",
    "from datetime import date, datetime\n",
    "from datetime import timedelta\n",
    "from dateutil.relativedelta import relativedelta\n",
    "# import pywt\n",
    "# from bartpy.sklearnmodel import SklearnModel\n",
    "from spock_datastore.symboldb import SymbolDb\n",
    "from spock_datastore.economicdb import EconomicDb\n",
    "symbol_db = SymbolDb('http://api.leadinfo.com.tw/api/v1/')\n",
    "economic_db = EconomicDb('http://api.leadinfo.com.tw/api/v1/')\n",
    "import datetime\n",
    "from matplotlib.patches import Rectangle"
   ]
  },
  {
   "cell_type": "code",
   "execution_count": 12,
   "metadata": {},
   "outputs": [],
   "source": [
    "weight = {'TLT':0.2, 'HYG':0.2, 'EMB':0.2, 'LQD':0.3, '^GSPC':0.1}"
   ]
  },
  {
   "cell_type": "code",
   "execution_count": 13,
   "metadata": {},
   "outputs": [],
   "source": [
    "class risk_cal:\n",
    "    def __init__(self, weight, year = None, start = datetime.datetime(2007,1,1), end = datetime.datetime.today()):\n",
    "        # input\n",
    "        self.__version = '1.0.0'\n",
    "        self.__log_info = {}\n",
    "        self.__wei = weight\n",
    "        self.__year = str(year)\n",
    "        self.__start = start\n",
    "        self.__end = end\n",
    "        # output\n",
    "        self.__output = {}\n",
    "        #information\n",
    "        self.__info = {}\n",
    "    @property   \n",
    "    def Version(self):\n",
    "        return self.__version\n",
    "    \n",
    "    @property   \n",
    "    def Info(self):\n",
    "        self.__info['port_value'] = self.__port_value.copy()\n",
    "        self.__info['symbol_price'] = self.__tv.copy()\n",
    "        self.__info['simulation_df'] = self.__simulation_df.copy()\n",
    "        return self.__info\n",
    "    \n",
    "    @property\n",
    "    def Result(self):\n",
    "        return self.__output\n",
    "    \n",
    "    def __check_weight(self):\n",
    "        if np.array(list(self.__wei.values())).sum() != 1.:\n",
    "            return False\n",
    "        else:\n",
    "            return True\n",
    "        \n",
    "    def __risk_dis(self, wei):\n",
    "        x = np.array(list(self.__wei.values()))\n",
    "        mad = np.abs(np.subtract.outer(x, x)).mean()\n",
    "        rmad = mad/np.mean(x)\n",
    "        gini = 0.5 * rmad\n",
    "        rd = 1 - gini\n",
    "        return rd\n",
    "    \n",
    "    def __div_ratio(self, tv, wei, pt_val):\n",
    "        port_val = pt_val.copy()\n",
    "        port_risk = port_val.pct_change(1).std()\n",
    "        cols = tv.columns.tolist()\n",
    "        np_val = []\n",
    "        for col in cols:\n",
    "            tmp_tv = tv[col].dropna()\n",
    "            tmp_val = 10000. / tmp_tv.iloc[0] * tmp_tv\n",
    "            np_val.append(tmp_val.pct_change(1).std())\n",
    "        avg_asset_risk = (np.array(np_val) * np.array(list(wei.values()))).sum()\n",
    "        dr = 1 - port_risk / avg_asset_risk\n",
    "        return dr\n",
    "    \n",
    "    def __mean_corr(self, tv):\n",
    "        A = tv.pct_change().dropna().corr().values\n",
    "        m = A.shape[0]\n",
    "        r,c = np.triu_indices(m,1)\n",
    "        mu_cor = A[r,c].mean()\n",
    "        return mu_cor\n",
    "    \n",
    "    def __CDI(self, dr, rd):\n",
    "        cdi = (dr + rd) / 2\n",
    "        return cdi\n",
    "    \n",
    "    def __tot_price(self):\n",
    "        wei = self.__wei\n",
    "        start = self.__start\n",
    "        end = self.__end\n",
    "        symbols = list(wei.keys())\n",
    "        tot_price = pd.DataFrame()\n",
    "        for symbol in symbols:\n",
    "            tmp = symbol_db.dataReader(symbol, start, end, 'D', 'db')\n",
    "            tot_price = pd.concat([tot_price, tmp['Adj Close']], axis=1)\n",
    "        tot_price.columns = symbols\n",
    "        tot_price = tot_price.fillna(method='pad')\n",
    "        if self.__year != None:\n",
    "            tot_price = tot_price.loc[str(self.__year)]\n",
    "        self.__tv = tot_price\n",
    "        return True\n",
    "    \n",
    "    def __port_value(self):\n",
    "        tv = self.__tv.copy()\n",
    "        wei = self.__wei.copy()\n",
    "        w = np.array([wei[k] for k in tv.columns.tolist()])\n",
    "        l = tv.shape[0]\n",
    "        tot_w = pd.DataFrame(np.repeat(w.reshape(-1,1).T,l,axis=0), index = tv.index, columns =tv.columns.tolist())\n",
    "        tot_w = tot_w.mask(tv.isnull())\n",
    "        tot_w = tot_w.loc[:,:].div(tot_w.sum(axis=1), axis=0)\n",
    "        tot_val = []\n",
    "        val = 10000.\n",
    "        change_wei_date = tot_w.drop_duplicates(keep='first').index.tolist()\n",
    "        for t in tot_w.index.tolist():\n",
    "            if t in change_wei_date:\n",
    "                share = tot_w.loc[t] * val / tv.loc[t]\n",
    "            val = (share * tv.loc[t]).sum()\n",
    "            tot_val.append(val)\n",
    "        port_val = pd.Series(tot_val, index = tot_w.index)\n",
    "        self.__port_value = port_val\n",
    "        return True\n",
    "    \n",
    "    def __sim(self, pt_val):       \n",
    "        port_val = pt_val.copy() \n",
    "        port_rets = port_val.pct_change().dropna()\n",
    "        daily_vol = port_rets.std()\n",
    "        daily_ret = port_rets.mean()\n",
    "\n",
    "        simulation_df = pd.DataFrame()\n",
    "        num_simulations = 10000\n",
    "        predicted_days = 252\n",
    "        last_price = port_val.iloc[-1]\n",
    "\n",
    "        #Create Each Simulation as a Column in df\n",
    "        for x in range(num_simulations):\n",
    "\n",
    "            count = 0\n",
    "\n",
    "            price_series = []\n",
    "            price_series.append(last_price)\n",
    "\n",
    "            #Series for Preditcted Days\n",
    "            for i in range(predicted_days):\n",
    "                if count == 251:\n",
    "                    break\n",
    "\n",
    "                #price = price_series[count] + price_series[count] * (daily_ret + daily_vol * np.random.normal(0, 1))\n",
    "\n",
    "                price = price_series[count] * (1 + np.random.normal(0, daily_vol))\n",
    "\n",
    "                price_series.append(price)\n",
    "                count += 1\n",
    "\n",
    "            simulation_df[x] = price_series\n",
    "\n",
    "        self.__simulation_df = simulation_df\n",
    "        price_array = simulation_df.iloc[-1, :]\n",
    "        price_array = sorted(price_array, key=int) \n",
    "\n",
    "        var = np.percentile(price_array/last_price -1, .95)\n",
    "        var1 = np.percentile(price_array/last_price -1, .99)\n",
    "        var2 = np.percentile(price_array/last_price -1, .9999)\n",
    "        return var, var1, var2\n",
    "    \n",
    "    def __cal(self):\n",
    "        tv = self.__tv.copy()\n",
    "        wei = self.__wei.copy()\n",
    "        pt_val = self.__port_value.copy()\n",
    "        rd = self.__risk_dis(wei)\n",
    "        dr = self.__div_ratio(tv, wei, pt_val)\n",
    "        mu_corr = self.__mean_corr(tv)\n",
    "        cdi = self.__CDI(dr, rd)\n",
    "        var, var1, var2 = self.__sim(pt_val)\n",
    "        VaR = {'0.95%CI':var, '0.99%CI':var1,'0.9999%CI':var2}\n",
    "        self.__output['diversify_ratio'] = dr\n",
    "        self.__output['risk_dispersion'] = rd\n",
    "        self.__output['cdi'] = cdi\n",
    "        self.__output['mean_corr'] = mu_corr\n",
    "        self.__output['var'] = VaR\n",
    "        return True\n",
    "    \n",
    "    def port_var_plot(self):\n",
    "        port_val = self.__port_value.copy()\n",
    "        simulation_df = self.__simulation_df.copy()\n",
    "        last_price = port_val.iloc[-1]\n",
    "\n",
    "        price_array = simulation_df.iloc[-1, :]\n",
    "        price_array = sorted(price_array, key=int) \n",
    "        \n",
    "        var = self.__output['var']\n",
    "        \n",
    "        print(\"VaR at 95% Confidence: \" + '{:,.4f}'.format(var['0.95%CI']))\n",
    "        print(\"VaR at 99% Confidence: \" + '{:,.4f}'.format(var['0.99%CI']))\n",
    "        print(\"VaR at 99.99% Confidence: \" + '{:,.4f}'.format(var['0.9999%CI']))\n",
    "        fig, ax = plt.subplots(figsize=(20, 10))\n",
    "        bin_num = 30\n",
    "        ret_array = price_array / last_price -1\n",
    "        N, bins, patches = ax.hist(ret_array, bins=bin_num, edgecolor='white', linewidth=1, rwidth=0.3, density=True)\n",
    "        cut_pot1 = int(round(bin_num * 0.05))\n",
    "        cut_pot2 = int(np.argmin(abs(bins)))\n",
    "        cut_pot3 = int(round(bin_num * 0.95))\n",
    "\n",
    "        cmap = plt.get_cmap('jet')\n",
    "        low = cmap(0.5)\n",
    "        medium =cmap(0.25)\n",
    "        high = cmap(0.8)\n",
    "        too_high = cmap(1)\n",
    "\n",
    "        for i in range(0,cut_pot1):\n",
    "            patches[i].set_facecolor(low)\n",
    "        for i in range(cut_pot1,cut_pot2):    \n",
    "            patches[i].set_facecolor(medium)\n",
    "        for i in range(cut_pot2, cut_pot3):\n",
    "            patches[i].set_facecolor(high)\n",
    "        for i in range(cut_pot3, len(patches)):\n",
    "            patches[i].set_facecolor(too_high)\n",
    "\n",
    "        #create legend\n",
    "        handles = [Rectangle((0,0),1,1,color=c,ec=\"k\") for c in [low, medium, high, too_high]]\n",
    "        labels= [\"Shortfall\", \"Negative Returns\", \"Positive Returns\", \"Upside\"]\n",
    "        ax.legend(handles, labels, loc=0, fontsize='medium')\n",
    "\n",
    "        ax.set_xlabel('Return')\n",
    "        ax.set_ylabel('Probability')\n",
    "        ax.set_title(r'Histogram of Simulated Stock Returns', fontsize=18, fontweight='bold')\n",
    "\n",
    "        fig.show() \n",
    "    \n",
    "    def run(self):\n",
    "        if not self.__check_weight():\n",
    "            self.__log('Error', 'Exception: check_weight()')\n",
    "            return False\n",
    "        if not self.__tot_price():\n",
    "            self.__log('Error', 'Exception: tot_price()')\n",
    "            return False\n",
    "        if not self.__port_value():\n",
    "            self.__log('Error', 'Exception: port_values()')\n",
    "            return False\n",
    "        if not self.__cal():\n",
    "            self.__log('Error','Exception: cal()')\n",
    "            return False\n",
    "        return True"
   ]
  },
  {
   "cell_type": "code",
   "execution_count": 14,
   "metadata": {},
   "outputs": [],
   "source": [
    "rc = risk_cal(weight, '2010')"
   ]
  },
  {
   "cell_type": "code",
   "execution_count": 15,
   "metadata": {},
   "outputs": [
    {
     "data": {
      "text/plain": [
       "True"
      ]
     },
     "execution_count": 15,
     "metadata": {},
     "output_type": "execute_result"
    }
   ],
   "source": [
    "rc.run()"
   ]
  },
  {
   "cell_type": "code",
   "execution_count": 16,
   "metadata": {},
   "outputs": [
    {
     "data": {
      "text/plain": [
       "{'cdi': 0.4971383908592484,\n",
       " 'diversify_ratio': 0.1542767817184968,\n",
       " 'mean_corr': 0.159346971838985,\n",
       " 'risk_dispersion': 0.84,\n",
       " 'var': {'0.95%CI': -0.12038417927156075,\n",
       "  '0.99%CI': -0.11892572587615736,\n",
       "  '0.9999%CI': -0.11853365585859099}}"
      ]
     },
     "execution_count": 16,
     "metadata": {},
     "output_type": "execute_result"
    }
   ],
   "source": [
    "rc.Result"
   ]
  },
  {
   "cell_type": "code",
   "execution_count": 17,
   "metadata": {},
   "outputs": [],
   "source": [
    "port_val = rc.Info['port_value']\n",
    "simulation_df = rc.Info['simulation_df']"
   ]
  },
  {
   "cell_type": "code",
   "execution_count": 8,
   "metadata": {},
   "outputs": [
    {
     "data": {
      "text/plain": [
       "{'cdi': 0.4971383908592484,\n",
       " 'diversify_ratio': 0.1542767817184968,\n",
       " 'mean_corr': 0.159346971838985,\n",
       " 'risk_dispersion': 0.84,\n",
       " 'var': {'0.95%CI': -0.12279578527494996,\n",
       "  '0.99%CI': -0.12181021325917071,\n",
       "  '0.9999%CI': -0.12166466000307592}}"
      ]
     },
     "execution_count": 8,
     "metadata": {},
     "output_type": "execute_result"
    }
   ],
   "source": [
    "rc.Result"
   ]
  },
  {
   "cell_type": "code",
   "execution_count": 9,
   "metadata": {},
   "outputs": [
    {
     "name": "stdout",
     "output_type": "stream",
     "text": [
      "VaR at 95% Confidence: -0.1228\n",
      "VaR at 99% Confidence: -0.1218\n",
      "VaR at 99.99% Confidence: -0.1217\n"
     ]
    },
    {
     "data": {
      "image/png": "[encoded data removed]",
      "text/plain": [
       "<Figure size 1440x720 with 1 Axes>"
      ]
     },
     "metadata": {
      "needs_background": "light"
     },
     "output_type": "display_data"
    }
   ],
   "source": [
    "rc.port_var_plot()"
   ]
  },
  {
   "cell_type": "code",
   "execution_count": null,
   "metadata": {},
   "outputs": [],
   "source": []
  },
  {
   "cell_type": "code",
   "execution_count": null,
   "metadata": {},
   "outputs": [],
   "source": []
  },
  {
   "cell_type": "code",
   "execution_count": null,
   "metadata": {},
   "outputs": [],
   "source": []
  },
  {
   "cell_type": "code",
   "execution_count": 6,
   "metadata": {},
   "outputs": [
    {
     "data": {
      "text/html": [
       "        <script type=\"text/javascript\">\n",
       "        window.PlotlyConfig = {MathJaxConfig: 'local'};\n",
       "        if (window.MathJax) {MathJax.Hub.Config({SVG: {font: \"STIX-Web\"}});}\n",
       "        if (typeof require !== 'undefined') {\n",
       "        require.undef(\"plotly\");\n",
       "        requirejs.config({\n",
       "            paths: {\n",
       "                'plotly': ['https://cdn.plot.ly/plotly-latest.min']\n",
       "            }\n",
       "        });\n",
       "        require(['plotly'], function(Plotly) {\n",
       "            window._Plotly = Plotly;\n",
       "        });\n",
       "        }\n",
       "        </script>\n",
       "        "
      ]
     },
     "metadata": {},
     "output_type": "display_data"
    },
    {
     "data": {
      "application/vnd.plotly.v1+json": {
       "config": {
        "linkText": "Export to plot.ly",
        "plotlyServerURL": "https://plot.ly",
        "responsive": true,
        "showLink": false
       },
       "data": [
        {
         "type": "scatter",
         "uid": "44fb2d52-fac5-432c-99db-40fea4b92373",
         "x": [
          1,
          2,
          3,
          4
         ],
         "y": [
          4,
          3,
          2,
          1
         ]
        }
       ],
       "layout": {
        "autosize": true,
        "title": {
         "text": "hello world"
        },
        "xaxis": {
         "autorange": true,
         "range": [
          0.8191994572591588,
          4.180800542740841
         ],
         "type": "linear"
        },
        "yaxis": {
         "autorange": true,
         "range": [
          0.7524271844660194,
          4.247572815533981
         ],
         "type": "linear"
        }
       }
      },
      "image/png": "[encoded data removed]",
      "text/html": [
       "<div>\n",
       "        \n",
       "        \n",
       "            <div id=\"5a2f5709-13f1-4114-bb1c-2216edfe2efc\" class=\"plotly-graph-div\" style=\"height:525px; width:100%;\"></div>\n",
       "            <script type=\"text/javascript\">\n",
       "                require([\"plotly\"], function(Plotly) {\n",
       "                    window.PLOTLYENV=window.PLOTLYENV || {};\n",
       "                    window.PLOTLYENV.BASE_URL='https://plot.ly';\n",
       "                    \n",
       "                if (document.getElementById(\"5a2f5709-13f1-4114-bb1c-2216edfe2efc\")) {\n",
       "                    Plotly.newPlot(\n",
       "                        '5a2f5709-13f1-4114-bb1c-2216edfe2efc',\n",
       "                        [{\"type\": \"scatter\", \"uid\": \"fe459a30-5675-400c-ae2c-ca8f0c4390c5\", \"x\": [1, 2, 3, 4], \"y\": [4, 3, 2, 1]}],\n",
       "                        {\"title\": {\"text\": \"hello world\"}},\n",
       "                        {\"responsive\": true, \"linkText\": \"Export to plot.ly\", \"showLink\": false, \"plotlyServerURL\": \"https://plot.ly\"}\n",
       "                    ).then(function(){\n",
       "                            \n",
       "var gd = document.getElementById('5a2f5709-13f1-4114-bb1c-2216edfe2efc');\n",
       "var x = new MutationObserver(function (mutations, observer) {{\n",
       "        var display = window.getComputedStyle(gd).display;\n",
       "        if (!display || display === 'none') {{\n",
       "            console.log([gd, 'removed!']);\n",
       "            Plotly.purge(gd);\n",
       "            observer.disconnect();\n",
       "        }}\n",
       "}});\n",
       "\n",
       "// Listen for the removal of the full notebook cells\n",
       "var notebookContainer = gd.closest('#notebook-container');\n",
       "if (notebookContainer) {{\n",
       "    x.observe(notebookContainer, {childList: true});\n",
       "}}\n",
       "\n",
       "// Listen for the clearing of the current output cell\n",
       "var outputEl = gd.closest('.output');\n",
       "if (outputEl) {{\n",
       "    x.observe(outputEl, {childList: true});\n",
       "}}\n",
       "\n",
       "                        })\n",
       "                };\n",
       "                });\n",
       "            </script>\n",
       "        </div>"
      ]
     },
     "metadata": {},
     "output_type": "display_data"
    }
   ],
   "source": [
    "import plotly\n",
    "import plotly.graph_objs as go\n",
    "\n",
    "plotly.offline.init_notebook_mode(connected=True)\n",
    "\n",
    "plotly.offline.iplot({\n",
    "    \"data\": [go.Scatter(x=[1, 2, 3, 4], y=[4, 3, 2, 1])],\n",
    "    \"layout\": go.Layout(title=\"hello world\")\n",
    "})"
   ]
  },
  {
   "cell_type": "code",
   "execution_count": 7,
   "metadata": {},
   "outputs": [
    {
     "data": {
      "application/vnd.jupyter.widget-view+json": {
       "model_id": "a7ffd4d6a5164ab8822788f95a81260a",
       "version_major": 2,
       "version_minor": 0
      },
      "text/plain": [
       "FigureWidget({\n",
       "    'data': [{'type': 'histogram2dcontour',\n",
       "              'uid': '68b27aa6-02dd-424b-b25a-cd5f1…"
      ]
     },
     "metadata": {},
     "output_type": "display_data"
    }
   ],
   "source": [
    "import plotly.graph_objs as go\n",
    "x = np.random.randn(1000)\n",
    "y = np.random.randn(1000)\n",
    "go.FigureWidget(\n",
    "    data = [\n",
    "        {'x':x,'y':y,'type':'histogram2dcontour'}\n",
    "    ])"
   ]
  },
  {
   "cell_type": "code",
   "execution_count": 1,
   "metadata": {},
   "outputs": [],
   "source": [
    "import numpy as np"
   ]
  },
  {
   "cell_type": "code",
   "execution_count": null,
   "metadata": {},
   "outputs": [],
   "source": []
  }
 ],
 "metadata": {
  "kernelspec": {
   "display_name": "Python 3",
   "language": "python",
   "name": "python3"
  },
  "language_info": {
   "codemirror_mode": {
    "name": "ipython",
    "version": 3
   },
   "file_extension": ".py",
   "mimetype": "text/x-python",
   "name": "python",
   "nbconvert_exporter": "python",
   "pygments_lexer": "ipython3",
   "version": "3.5.2"
  }
 },
 "nbformat": 4,
 "nbformat_minor": 2
}
